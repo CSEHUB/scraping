{
 "cells": [
  {
   "cell_type": "code",
   "execution_count": 1,
   "metadata": {},
   "outputs": [],
   "source": [
    "from piazza_api import Piazza\n",
    "p = Piazza()\n",
    "\n"
   ]
  },
  {
   "cell_type": "code",
   "execution_count": 2,
   "metadata": {},
   "outputs": [
    {
     "name": "stdout",
     "output_type": "stream",
     "text": [
      "{'folders': ['logistics'], 'nr': 102, 'data': {'embed_links': []}, 'created': '2018-05-03T01:37:03Z', 'bucket_order': 0, 'no_answer_followup': 0, 'change_log': [{'anon': 'no', 'uid': 'glrksvyfHlA', 'data': 'jgpv1ehziie2gt', 'type': 'create', 'when': '2018-05-03T01:37:03Z'}, {'anon': 'no', 'uid': 'glrksvyfHlA', 'data': 'jgpv1hyi8e52l1', 'type': 'update', 'when': '2018-05-03T01:37:07Z'}, {'anon': 'no', 'uid': 'glrksvyfHlA', 'data': 'jgpv40gho4a431', 'type': 'update', 'when': '2018-05-03T01:39:04Z'}, {'anon': 'no', 'uid': 'glrksvyfHlA', 'data': 'jgpv56tpyvs4px', 'type': 'update', 'when': '2018-05-03T01:39:59Z'}, {'anon': 'stud', 'to': 'jgpv1ehwpfz2gs', 'type': 'followup', 'when': '2018-05-04T21:41:15Z'}, {'anon': 'no', 'uid': 'glrksvyfHlA', 'to': 'jgpv1ehwpfz2gs', 'type': 'feedback', 'when': '2018-05-04T21:52:23Z'}], 'bucket_name': 'Pinned', 'history': [{'anon': 'no', 'uid': 'glrksvyfHlA', 'subject': 'Peer Review Grading Criteria', 'created': '2018-05-03T01:39:59Z', 'content': '<p>All peer reviews have been graded.\\xa0 Scores will be posted shortly.\\xa0 Points were awarded based on the following:</p>\\n<p></p>\\n<div>\\n<p><strong>Total: 10 points</strong></p>\\n<p></p>\\n<p dir=\"ltr\">Rating all team members with 10 points (0 points awarded)</p>\\n<p dir=\"ltr\">otherwise:</p>\\n<p dir=\"ltr\"></p>\\n<p dir=\"ltr\">Split among\\xa0ratings (3pts) and comments (7pts)</p>\\n<br />\\n<p>\\xa0</p>\\n<br />\\n<p dir=\"ltr\"><strong>Insufficient comments criteria:</strong></p>\\n<br />\\n<p dir=\"ltr\">-duplicate comments for multiple people</p>\\n<br />\\n<table border=\"1\" cellspacing=\"0\" cellpadding=\"6px\" width=\"614\" height=\"201\"><tbody><tr><td><br />\\n<p><strong>Ratings</strong>\\xa0(based on average rating\\xa0awarded to peers)</p>\\n</td><td><strong>Comments</strong></td><td><strong>Missing reviews</strong></td></tr><tr><td>3 pts: avg &lt; 8.3</td><td>7 pts : 0 insufficient</td><td><br />\\n<p>-1 pt per team member</p>\\n<br />\\n<p>not reviewed</p>\\n</td></tr><tr><td>2 pts: avg &gt;= 8.3\\xa0</td><td>6 pts : 1 insufficient</td><td></td></tr><tr><td>1 pt: avg &gt;= 9</td><td>5 pts : 2 insufficient</td><td></td></tr><tr><td>0 pts: avg &gt;= 9.5</td><td>4 pts : 3 insufficient</td><td></td></tr><tr><td></td><td>3 pts : 4/5 insufficient</td><td></td></tr><tr><td></td><td>2 pts : 6/7 insufficient</td><td></td></tr><tr><td></td><td>0 pts : &gt;= 8 insufficient</td><td></td></tr></tbody></table>\\n<br />\\n<p>\\xa0</p>\\n<br />\\n<p>\\xa0</p>\\n<br />\\n<p><strong>TEAM-WISE DEDUCTION (every member in the team received):</strong></p>\\n<br />\\n<p>-1 pt\\xa0per\\xa0team member that did not review any other team members</p>\\n</div>\\n<p>#pin</p>'}, {'anon': 'no', 'uid': 'glrksvyfHlA', 'subject': 'Peer Review Grading Criteria', 'created': '2018-05-03T01:39:04Z', 'content': '<p></p><h1></h1>\\n<div>\\n<p><strong>Total: 10 points</strong></p>\\n<p></p>\\n<p dir=\"ltr\">Rating all team members with 10 points (0 points awarded)</p>\\n<p dir=\"ltr\">otherwise:</p>\\n<p dir=\"ltr\"></p>\\n<p dir=\"ltr\">Split among\\xa0ratings (3pts) and comments (7pts)</p>\\n<br />\\n<p>\\xa0</p>\\n<br />\\n<p dir=\"ltr\"><strong>Insufficient comments criteria:</strong></p>\\n<br />\\n<p dir=\"ltr\">-duplicate comments for multiple people</p>\\n<br />\\n<table border=\"1\" cellspacing=\"0\" cellpadding=\"6px\" width=\"614\" height=\"201\"><tbody><tr><td><br />\\n<p><strong>Ratings</strong>\\xa0(based on average rating\\xa0awarded to peers)</p>\\n</td><td><strong>Comments</strong></td><td><strong>Missing reviews</strong></td></tr><tr><td>3 pts: avg &lt; 8.3</td><td>7 pts : 0 insufficient</td><td><br />\\n<p>-1 pt per team member</p>\\n<br />\\n<p>not reviewed</p>\\n</td></tr><tr><td>2 pts: avg &gt;= 8.3\\xa0</td><td>6 pts : 1 insufficient</td><td></td></tr><tr><td>1 pt: avg &gt;= 9</td><td>5 pts : 2 insufficient</td><td></td></tr><tr><td>0 pts: avg &gt;= 9.5</td><td>4 pts : 3 insufficient</td><td></td></tr><tr><td></td><td>3 pts : 4/5 insufficient</td><td></td></tr><tr><td></td><td>2 pts : 6/7 insufficient</td><td></td></tr><tr><td></td><td>0 pts : &gt;= 8 insufficient</td><td></td></tr></tbody></table>\\n<br />\\n<p>\\xa0</p>\\n<br />\\n<p>\\xa0</p>\\n<br />\\n<p><strong>TEAM-WISE DEDUCTION (every member in the team received):</strong></p>\\n<br />\\n<p>-1 pt\\xa0per\\xa0team member that did not review any other team members</p>\\n</div>\\n#pin'}, {'anon': 'no', 'uid': 'glrksvyfHlA', 'subject': 'Peer Review Grading Criteria', 'created': '2018-05-03T01:37:07Z', 'content': '<p></p><h1></h1>\\n<div>\\n<p><strong>Total: 10 points</strong></p>\\n<p></p>\\n<p dir=\"ltr\">Rating all team members with 10 points (0 points awarded)</p>\\n<p dir=\"ltr\">otherwise:</p>\\n<p dir=\"ltr\"></p>\\n<p dir=\"ltr\">Split among\\xa0ratings (3pts) and comments (7pts)</p>\\n<br />\\n<p>\\xa0</p>\\n<br />\\n<p dir=\"ltr\"><strong>Insufficient comments criteria:</strong></p>\\n<br />\\n<p dir=\"ltr\">-duplicate comments for multiple people</p>\\n<br />\\n<table border=\"1\" cellspacing=\"0\" cellpadding=\"6px\" width=\"614\" height=\"201\"><tbody><tr><td><br />\\n<p><strong>Ratings</strong>\\xa0(based on average rating\\xa0awarded to peers)</p>\\n</td><td><strong>Comments</strong></td><td><strong>Missing reviews</strong></td></tr><tr><td>3 pts: avg &lt; 8.3</td><td>7 pts : 0 insufficient</td><td><br />\\n<p>-1 pt per team member</p>\\n<br />\\n<p>not reviewed</p>\\n</td></tr><tr><td>2 pts: avg &gt;= 8.3\\xa0</td><td>6 pts : 1 insufficient</td><td></td></tr><tr><td>1 pt: avg &gt;= 9</td><td>5 pts : 2 insufficient</td><td></td></tr><tr><td>0 pts: avg &gt;= 9.5</td><td>4 pts : 3 insufficient</td><td></td></tr><tr><td></td><td>3 pts : 4/5 insufficient</td><td></td></tr><tr><td></td><td>2 pts : 6/7 insufficient</td><td></td></tr><tr><td></td><td>0 pts : &gt;= 8 insufficient</td><td></td></tr></tbody></table>\\n<br />\\n<p>\\xa0</p>\\n<br />\\n<p>\\xa0</p>\\n<br />\\n<p><strong>TEAM-WISE DEDUCTION (every member in the team received):</strong></p>\\n<br />\\n<p>-1 pt\\xa0per\\xa0team member that did not review any other team members</p>\\n</div>\\n#pin'}, {'anon': 'no', 'uid': 'glrksvyfHlA', 'subject': 'Peer Review Grading Criteria', 'created': '2018-05-03T01:37:03Z', 'content': '<p></p><h1></h1>\\n<div>\\n<p><strong>Total: 10 points</strong></p>\\n<p></p>\\n<p dir=\"ltr\">Rating all team members with 10 points (0 points awarded)</p>\\n<p dir=\"ltr\">otherwise:</p>\\n<p dir=\"ltr\"></p>\\n<p dir=\"ltr\">Split among\\xa0ratings (3pts) and comments (7pts)</p>\\n<br />\\n<p>\\xa0</p>\\n<br />\\n<p dir=\"ltr\"><strong>Insufficient comments criteria:</strong></p>\\n<br />\\n<p dir=\"ltr\">-duplicate comments for multiple people</p>\\n<br />\\n<table border=\"1\" cellspacing=\"0\" cellpadding=\"6px\" width=\"614\" height=\"201\"><tbody><tr><td><br />\\n<p><strong>Ratings</strong>\\xa0(based on average rating\\xa0awarded to peers)</p>\\n</td><td><strong>Comments</strong></td><td><strong>Missing reviews</strong></td></tr><tr><td>3 pts: avg &lt; 8.3</td><td>7 pts : 0 insufficient</td><td><br />\\n<p>-1 pt per team member</p>\\n<br />\\n<p>not reviewed</p>\\n</td></tr><tr><td>2 pts: avg &gt;= 8.3\\xa0</td><td>6 pts : 1 insufficient</td><td></td></tr><tr><td>1 pt: avg &gt;= 9</td><td>5 pts : 2 insufficient</td><td></td></tr><tr><td>0 pts: avg &gt;= 9.5</td><td>4 pts : 3 insufficient</td><td></td></tr><tr><td></td><td>3 pts : 4/5 insufficient</td><td></td></tr><tr><td></td><td>2 pts : 6/7 insufficient</td><td></td></tr><tr><td></td><td>0 pts : &gt;= 8 insufficient</td><td></td></tr></tbody></table>\\n<br />\\n<p>\\xa0</p>\\n<br />\\n<p>\\xa0</p>\\n<br />\\n<p><strong>TEAM-WISE DEDUCTION (every member in the team received):</strong></p>\\n<br />\\n<p>-1 pt\\xa0per\\xa0team member that did not review any other team members</p>\\n</div>'}], 'type': 'note', 'tags': ['instructor-note', 'logistics', 'pin'], 'tag_good': [], 'unique_views': 159, 'children': [{'anon': 'stud', 'folders': [], 'data': {'embed_links': None}, 'no_upvotes': 0, 'subject': '<p>I can&#39;t view the score on cse110.com.</p>', 'created': '2018-05-04T21:41:15Z', 'bucket_order': 2, 'bucket_name': 'Today', 'type': 'followup', 'children': [{'anon': 'no', 'folders': [], 'data': {'embed_links': None}, 'subject': '<p>The scores will be on GradeSource.</p>', 'created': '2018-05-04T21:52:23Z', 'bucket_order': 2, 'bucket_name': 'Today', 'type': 'feedback', 'uid': 'glrksvyfHlA', 'children': [], 'id': 'jgshw6pol465nf', 'updated': '2018-05-04T21:52:23Z', 'config': {}}], 'no_answer': 0, 'id': 'jgshhvsenre4wm', 'updated': '2018-05-04T21:41:15Z', 'config': {}}], 'tag_good_arr': [], 'id': 'jgpv1ehwpfz2gs', 'config': {'is_announcement': 1}, 'status': 'active', 'upvote_ids': [], 'request_instructor': 0, 'request_instructor_me': False, 'bookmarked': 2, 'num_favorites': 1, 'my_favorite': False, 'is_bookmarked': False, 'is_tag_good': False, 'q_edits': [], 'i_edits': [], 's_edits': [], 't': 1526055680235, 'default_anonymity': 'no'}\n"
     ]
    }
   ],
   "source": [
    "p.user_login('username@ucsd.edu', 'password')\n",
    "user_profile = p.get_user_profile()\n",
    "CSE110 = p.network(\"jebhpmejaa92vh\")\n",
    "CSE110.get_post(10)\n",
    "\n",
    "posts = CSE110.iter_all_posts(limit=1)\n",
    "for post in posts:\n",
    "    print(post)\n",
    "\n",
    "#>>> from piazza_api import Piazza\n",
    "#>>> p = Piazza()\n",
    "#>>> p.user_login()\n",
    "#Email: ...\n",
    "#Password: ...\n",
    "#\n",
    "#>>> user_profile = p.get_user_profile()\n",
    "#\n",
    "#>>> eece210 = p.network(\"hl5qm84dl4t3x2\")\n",
    "#\n",
    "#>>> eece210.get_post(100)\n",
    "#...\n",
    "#\n",
    "#>>> posts = eece210.iter_all_posts(limit=10)\n",
    "#>>> for post in posts:\n",
    "#...     do_awesome_thing(post)\n",
    "#\n",
    "#>>> users = eece210.get_users([\"userid1\", \"userid2\"])\n",
    "#>>> all_users = eece210.get_all_users()\n",
    "#\n",
    "#"
   ]
  },
  {
   "cell_type": "code",
   "execution_count": 3,
   "metadata": {},
   "outputs": [
    {
     "name": "stdout",
     "output_type": "stream",
     "text": [
      "folders\n",
      "nr\n",
      "data\n",
      "created\n",
      "bucket_order\n",
      "no_answer_followup\n",
      "change_log\n",
      "bucket_name\n",
      "history\n",
      "type\n",
      "tags\n",
      "tag_good\n",
      "unique_views\n",
      "children\n",
      "tag_good_arr\n",
      "id\n",
      "config\n",
      "status\n",
      "upvote_ids\n",
      "request_instructor\n",
      "request_instructor_me\n",
      "bookmarked\n",
      "num_favorites\n",
      "my_favorite\n",
      "is_bookmarked\n",
      "is_tag_good\n",
      "q_edits\n",
      "i_edits\n",
      "s_edits\n",
      "t\n",
      "default_anonymity\n"
     ]
    }
   ],
   "source": [
    "for i in post:\n",
    "    print(i)"
   ]
  },
  {
   "cell_type": "code",
   "execution_count": 16,
   "metadata": {},
   "outputs": [
    {
     "name": "stdout",
     "output_type": "stream",
     "text": [
      "<class 'dict'>\n",
      "{'anon': 'no', 'uid': 'glrksvyfHlA', 'subject': 'Peer Review Grading Criteria', 'created': '2018-05-03T01:39:04Z', 'content': '<p></p><h1></h1>\\n<div>\\n<p><strong>Total: 10 points</strong></p>\\n<p></p>\\n<p dir=\"ltr\">Rating all team members with 10 points (0 points awarded)</p>\\n<p dir=\"ltr\">otherwise:</p>\\n<p dir=\"ltr\"></p>\\n<p dir=\"ltr\">Split among\\xa0ratings (3pts) and comments (7pts)</p>\\n<br />\\n<p>\\xa0</p>\\n<br />\\n<p dir=\"ltr\"><strong>Insufficient comments criteria:</strong></p>\\n<br />\\n<p dir=\"ltr\">-duplicate comments for multiple people</p>\\n<br />\\n<table border=\"1\" cellspacing=\"0\" cellpadding=\"6px\" width=\"614\" height=\"201\"><tbody><tr><td><br />\\n<p><strong>Ratings</strong>\\xa0(based on average rating\\xa0awarded to peers)</p>\\n</td><td><strong>Comments</strong></td><td><strong>Missing reviews</strong></td></tr><tr><td>3 pts: avg &lt; 8.3</td><td>7 pts : 0 insufficient</td><td><br />\\n<p>-1 pt per team member</p>\\n<br />\\n<p>not reviewed</p>\\n</td></tr><tr><td>2 pts: avg &gt;= 8.3\\xa0</td><td>6 pts : 1 insufficient</td><td></td></tr><tr><td>1 pt: avg &gt;= 9</td><td>5 pts : 2 insufficient</td><td></td></tr><tr><td>0 pts: avg &gt;= 9.5</td><td>4 pts : 3 insufficient</td><td></td></tr><tr><td></td><td>3 pts : 4/5 insufficient</td><td></td></tr><tr><td></td><td>2 pts : 6/7 insufficient</td><td></td></tr><tr><td></td><td>0 pts : &gt;= 8 insufficient</td><td></td></tr></tbody></table>\\n<br />\\n<p>\\xa0</p>\\n<br />\\n<p>\\xa0</p>\\n<br />\\n<p><strong>TEAM-WISE DEDUCTION (every member in the team received):</strong></p>\\n<br />\\n<p>-1 pt\\xa0per\\xa0team member that did not review any other team members</p>\\n</div>\\n#pin'}\n",
      "anon\n",
      "uid\n",
      "subject\n",
      "created\n",
      "content\n",
      "Peer Review Grading Criteria\n",
      "<p></p><h1></h1>\n",
      "<div>\n",
      "<p><strong>Total: 10 points</strong></p>\n",
      "<p></p>\n",
      "<p dir=\"ltr\">Rating all team members with 10 points (0 points awarded)</p>\n",
      "<p dir=\"ltr\">otherwise:</p>\n",
      "<p dir=\"ltr\"></p>\n",
      "<p dir=\"ltr\">Split among ratings (3pts) and comments (7pts)</p>\n",
      "<br />\n",
      "<p> </p>\n",
      "<br />\n",
      "<p dir=\"ltr\"><strong>Insufficient comments criteria:</strong></p>\n",
      "<br />\n",
      "<p dir=\"ltr\">-duplicate comments for multiple people</p>\n",
      "<br />\n",
      "<table border=\"1\" cellspacing=\"0\" cellpadding=\"6px\" width=\"614\" height=\"201\"><tbody><tr><td><br />\n",
      "<p><strong>Ratings</strong> (based on average rating awarded to peers)</p>\n",
      "</td><td><strong>Comments</strong></td><td><strong>Missing reviews</strong></td></tr><tr><td>3 pts: avg &lt; 8.3</td><td>7 pts : 0 insufficient</td><td><br />\n",
      "<p>-1 pt per team member</p>\n",
      "<br />\n",
      "<p>not reviewed</p>\n",
      "</td></tr><tr><td>2 pts: avg &gt;= 8.3 </td><td>6 pts : 1 insufficient</td><td></td></tr><tr><td>1 pt: avg &gt;= 9</td><td>5 pts : 2 insufficient</td><td></td></tr><tr><td>0 pts: avg &gt;= 9.5</td><td>4 pts : 3 insufficient</td><td></td></tr><tr><td></td><td>3 pts : 4/5 insufficient</td><td></td></tr><tr><td></td><td>2 pts : 6/7 insufficient</td><td></td></tr><tr><td></td><td>0 pts : &gt;= 8 insufficient</td><td></td></tr></tbody></table>\n",
      "<br />\n",
      "<p> </p>\n",
      "<br />\n",
      "<p> </p>\n",
      "<br />\n",
      "<p><strong>TEAM-WISE DEDUCTION (every member in the team received):</strong></p>\n",
      "<br />\n",
      "<p>-1 pt per team member that did not review any other team members</p>\n",
      "</div>\n",
      "#pin\n"
     ]
    }
   ],
   "source": [
    "print(type(post['history'][1]))\n",
    "\n",
    "print(post['history'][1])\n",
    "\n",
    "for i in post['history'][1]:\n",
    "    print(i)\n",
    "print(post['history'][1]['subject'])\n",
    "print(post['history'][1]['content'])"
   ]
  },
  {
   "cell_type": "code",
   "execution_count": null,
   "metadata": {},
   "outputs": [],
   "source": []
  }
 ],
 "metadata": {
  "kernelspec": {
   "display_name": "Python 3",
   "language": "python",
   "name": "python3"
  },
  "language_info": {
   "codemirror_mode": {
    "name": "ipython",
    "version": 3
   },
   "file_extension": ".py",
   "mimetype": "text/x-python",
   "name": "python",
   "nbconvert_exporter": "python",
   "pygments_lexer": "ipython3",
   "version": "3.6.0"
  }
 },
 "nbformat": 4,
 "nbformat_minor": 2
}
