{
 "cells": [
  {
   "cell_type": "code",
   "execution_count": 2,
   "metadata": {},
   "outputs": [],
   "source": [
    "from bs4 import BeautifulSoup\n",
    "import requests\n",
    "from lxml import html\n",
    "import lxml.html\n",
    "import pandas as pd\n",
    "import re\n",
    "from robobrowser import RoboBrowser"
   ]
  },
  {
   "cell_type": "code",
   "execution_count": 3,
   "metadata": {},
   "outputs": [],
   "source": [
    "def cas_login(service, username, password):\n",
    "    # GET parameters - URL we'd like to log into.\n",
    "    params = {'service': service}\n",
    "    LOGIN_URL = service\n",
    "\n",
    "    # Start session and get login form.\n",
    "    session = requests.session()\n",
    "    login = session.get(LOGIN_URL)\n",
    "    #print(login.text)\n",
    "    # Get the hidden elements and put them in our form.\n",
    "    login_html = lxml.html.fromstring(login.text)\n",
    "    hidden_elements = login_html.xpath('//form//input[@type=\"hidden\"]')\n",
    "    form = {x.attrib['name']: x.attrib['value'] for x in hidden_elements}\n",
    "\n",
    "    # \"Fill out\" the form.\n",
    "    form['session[email]'] = username\n",
    "    form['session[password]'] = password\n",
    "\n",
    "    # Finally, login and return the session.\n",
    "    session.post(LOGIN_URL, data=form, params=params)\n",
    "    return session\n"
   ]
  },
  {
   "cell_type": "code",
   "execution_count": 4,
   "metadata": {},
   "outputs": [],
   "source": [
    "def getGrades(email,password):\n",
    "    session = (cas_login('https://gradescope.com/login', email, password))\n",
    "    temp = session.get('https://gradescope.com/account')\n",
    "    banana = BeautifulSoup(temp.content, 'html.parser')\n",
    "    \n",
    "    links = banana.find_all('a', {'class': 'courseBox'})\n",
    "    listOfClasses = banana.find_all('div', {'class': 'courseList'})\n",
    "    value = 0\n",
    "    if len(listOfClasses) == 2:\n",
    "        value = 1\n",
    "    dictValue = {}\n",
    "    for i in listOfClasses[value].find_all('a'):\n",
    "        #print(i['href'])\n",
    "        dictValue[i.find('h3').text] = []\n",
    "        firstCourse = session.get( 'https://gradescope.com' + i['href'])\n",
    "        secondBeauty = BeautifulSoup(firstCourse.content, 'html.parser')\n",
    "        listClass = secondBeauty.find_all('tr')\n",
    "        \n",
    "        for k in range(len(listClass)-1):\n",
    "            scores = listClass[k+1].find_all('td')[0].text\n",
    "            if listClass[k+1].find('th').find('a')!= None:\n",
    "                course = listClass[k+1].find('th').find('a').text\n",
    "                dictValue[i.find('h3').text].append({course: scores})\n",
    "           \n",
    "    return dictValue"
   ]
  },
  {
   "cell_type": "code",
   "execution_count": 12,
   "metadata": {},
   "outputs": [],
   "source": [
    "#dictionary = getGrades('GRADESCOPE_EMAIL', 'GRADESCOPE_PASSWORD')\n",
    "dictionary = getGrades('USERNAME@ucsd.edu', 'PASSWORD')"
   ]
  },
  {
   "cell_type": "code",
   "execution_count": 1,
   "metadata": {},
   "outputs": [
    {
     "ename": "NameError",
     "evalue": "name 'dictionary' is not defined",
     "output_type": "error",
     "traceback": [
      "\u001b[0;31m---------------------------------------------------------------------------\u001b[0m",
      "\u001b[0;31mNameError\u001b[0m                                 Traceback (most recent call last)",
      "\u001b[0;32m<ipython-input-1-f854c5c896b9>\u001b[0m in \u001b[0;36m<module>\u001b[0;34m()\u001b[0m\n\u001b[1;32m      1\u001b[0m \u001b[0;31m#display the data as a json\u001b[0m\u001b[0;34m\u001b[0m\u001b[0;34m\u001b[0m\u001b[0m\n\u001b[0;32m----> 2\u001b[0;31m \u001b[0;32mfor\u001b[0m \u001b[0;34m(\u001b[0m\u001b[0mkey\u001b[0m\u001b[0;34m,\u001b[0m \u001b[0mvalue\u001b[0m\u001b[0;34m)\u001b[0m \u001b[0;32min\u001b[0m \u001b[0mdictionary\u001b[0m\u001b[0;34m.\u001b[0m\u001b[0mitems\u001b[0m\u001b[0;34m(\u001b[0m\u001b[0;34m)\u001b[0m\u001b[0;34m:\u001b[0m\u001b[0;34m\u001b[0m\u001b[0m\n\u001b[0m\u001b[1;32m      3\u001b[0m     \u001b[0mprint\u001b[0m\u001b[0;34m(\u001b[0m\u001b[0;34m\"{\"\u001b[0m\u001b[0;34m,\u001b[0m \u001b[0mkey\u001b[0m\u001b[0;34m,\u001b[0m \u001b[0;34m\":\"\u001b[0m\u001b[0;34m)\u001b[0m\u001b[0;34m\u001b[0m\u001b[0m\n\u001b[1;32m      4\u001b[0m     \u001b[0;32mfor\u001b[0m \u001b[0mi\u001b[0m \u001b[0;32min\u001b[0m \u001b[0mvalue\u001b[0m\u001b[0;34m:\u001b[0m\u001b[0;34m\u001b[0m\u001b[0m\n\u001b[1;32m      5\u001b[0m         \u001b[0mprint\u001b[0m\u001b[0;34m(\u001b[0m\u001b[0;34m\"\\t\"\u001b[0m\u001b[0;34m,\u001b[0m \u001b[0mi\u001b[0m\u001b[0;34m)\u001b[0m\u001b[0;34m\u001b[0m\u001b[0m\n",
      "\u001b[0;31mNameError\u001b[0m: name 'dictionary' is not defined"
     ]
    }
   ],
   "source": [
    "#display the data as a json\n",
    "for (key, value) in dictionary.items():\n",
    "    print(\"{\", key, \":\")\n",
    "    for i in value:\n",
    "        print(\"\\t\", i)\n",
    "    print(\"}\")\n",
    "    print()"
   ]
  },
  {
   "cell_type": "code",
   "execution_count": 14,
   "metadata": {},
   "outputs": [
    {
     "ename": "NameError",
     "evalue": "name 'dictValue' is not defined",
     "output_type": "error",
     "traceback": [
      "\u001b[0;31m---------------------------------------------------------------------------\u001b[0m",
      "\u001b[0;31mNameError\u001b[0m                                 Traceback (most recent call last)",
      "\u001b[0;32m<ipython-input-14-7d4ba06dc953>\u001b[0m in \u001b[0;36m<module>\u001b[0;34m()\u001b[0m\n\u001b[1;32m      2\u001b[0m \u001b[0;32mimport\u001b[0m \u001b[0mjson\u001b[0m\u001b[0;34m\u001b[0m\u001b[0m\n\u001b[1;32m      3\u001b[0m \u001b[0;32mwith\u001b[0m \u001b[0mopen\u001b[0m\u001b[0;34m(\u001b[0m\u001b[0;34m'grade.json'\u001b[0m\u001b[0;34m,\u001b[0m \u001b[0;34m'w'\u001b[0m\u001b[0;34m)\u001b[0m \u001b[0;32mas\u001b[0m \u001b[0mfp\u001b[0m\u001b[0;34m:\u001b[0m\u001b[0;34m\u001b[0m\u001b[0m\n\u001b[0;32m----> 4\u001b[0;31m     \u001b[0mjson\u001b[0m\u001b[0;34m.\u001b[0m\u001b[0mdump\u001b[0m\u001b[0;34m(\u001b[0m\u001b[0mdictValue\u001b[0m\u001b[0;34m,\u001b[0m \u001b[0mfp\u001b[0m\u001b[0;34m)\u001b[0m\u001b[0;34m\u001b[0m\u001b[0m\n\u001b[0m",
      "\u001b[0;31mNameError\u001b[0m: name 'dictValue' is not defined"
     ]
    }
   ],
   "source": [
    "#exporting your grades as a json LOL\n",
    "import json\n",
    "with open('grade.json', 'w') as fp:\n",
    "    json.dump(dictValue, fp)"
   ]
  },
  {
   "cell_type": "code",
   "execution_count": null,
   "metadata": {},
   "outputs": [],
   "source": []
  }
 ],
 "metadata": {
  "kernelspec": {
   "display_name": "Python 3",
   "language": "python",
   "name": "python3"
  },
  "language_info": {
   "codemirror_mode": {
    "name": "ipython",
    "version": 3
   },
   "file_extension": ".py",
   "mimetype": "text/x-python",
   "name": "python",
   "nbconvert_exporter": "python",
   "pygments_lexer": "ipython3",
   "version": "3.6.0"
  }
 },
 "nbformat": 4,
 "nbformat_minor": 2
}
