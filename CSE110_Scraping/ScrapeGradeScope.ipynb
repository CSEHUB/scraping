{
 "cells": [
  {
   "cell_type": "code",
   "execution_count": 1,
   "metadata": {},
   "outputs": [],
   "source": [
    "from bs4 import BeautifulSoup\n",
    "import requests\n",
    "from lxml import html\n",
    "import lxml.html\n",
    "import pandas as pd\n",
    "import re\n",
    "from robobrowser import RoboBrowser"
   ]
  },
  {
   "cell_type": "code",
   "execution_count": 77,
   "metadata": {},
   "outputs": [],
   "source": [
    "def cas_login(service, username, password):\n",
    "    # GET parameters - URL we'd like to log into.\n",
    "    params = {'service': service}\n",
    "    LOGIN_URL = service\n",
    "\n",
    "    # Start session and get login form.\n",
    "    session = requests.session()\n",
    "    login = session.get(LOGIN_URL)\n",
    "    #print(login.text)\n",
    "    # Get the hidden elements and put them in our form.\n",
    "    login_html = lxml.html.fromstring(login.text)\n",
    "    hidden_elements = login_html.xpath('//form//input[@type=\"hidden\"]')\n",
    "    form = {x.attrib['name']: x.attrib['value'] for x in hidden_elements}\n",
    "\n",
    "    # \"Fill out\" the form.\n",
    "    form['session[email]'] = username\n",
    "    form['session[password]'] = password\n",
    "\n",
    "    # Finally, login and return the session.\n",
    "    session.post(LOGIN_URL, data=form, params=params)\n",
    "    return session\n"
   ]
  },
  {
   "cell_type": "code",
   "execution_count": 78,
   "metadata": {},
   "outputs": [],
   "source": [
    "session = (cas_login('https://gradescope.com/login', 'username@ucsd.edu', 'password'))\n",
    "temp = session.get('https://gradescope.com/account')"
   ]
  },
  {
   "cell_type": "code",
   "execution_count": 79,
   "metadata": {},
   "outputs": [],
   "source": [
    "banana = BeautifulSoup(temp.content, 'html.parser')\n",
    "links = banana.find_all('a', {'class': 'courseBox'})"
   ]
  },
  {
   "cell_type": "code",
   "execution_count": 110,
   "metadata": {},
   "outputs": [
    {
     "name": "stdout",
     "output_type": "stream",
     "text": [
      "/courses/17372\n",
      "<class 'bs4.element.Tag'>\n"
     ]
    }
   ],
   "source": [
    "print(links[0]['href'])\n",
    "listOfClasses = banana.find_all('div', {'class': 'courseList'})\n",
    "print(type(links[2]))"
   ]
  },
  {
   "cell_type": "code",
   "execution_count": 155,
   "metadata": {},
   "outputs": [
    {
     "name": "stdout",
     "output_type": "stream",
     "text": [
      "CSE 101\n",
      "Homework 0 100.5 / 101.0\n",
      "Homework 1 93.0 / 101.0\n",
      "Exam 1 50.0 / 100.0\n",
      "CSE 140 - A00\n",
      "HW1 92.0 / 100.0\n",
      "HW2 88.0 / 100.0\n",
      "Midterm1 93.0 / 100.0\n",
      "HW3 Submitted\n",
      "CSE 100\n",
      "Homework 1 24.0 / 24.0\n",
      "Midterm 1 40.0 / 40.0\n",
      "Homework 2 24.0 / 24.0\n",
      "Homework 3 38.0 / 38.0\n",
      "Midterm SectionA_VersionB 38.0 / 39.0\n",
      "Homework 4 25.5 / 26.0\n",
      "CSE 105 A/B\n",
      "IndivHW0 32.0 / 32.0\n",
      "IndivHW1 30.0 / 30.0\n",
      "GroupHW1 29.0 / 30.0\n",
      "IndivHW2 29.0 / 30.0\n",
      "GroupHW2 30.0 / 30.0\n",
      "Interim Grade Report 1 Ungraded\n",
      "IndivHW3 30.0 / 30.0\n",
      "GroupHW3 29.0 / 30.0\n",
      "Interim Grade Report 2 Ungraded\n",
      "Interim Grade Report 3 Ungraded\n",
      "Exam 1 A Star 39.0 / 43.0\n",
      "IndivHW4 29.0 / 30.0\n",
      "GroupHW4 30.0 / 30.0\n",
      "Interim Grade Report 4 0.0 / 0.0\n",
      "IndivHW5 30.0 / 30.0\n",
      "GroupHW5 28.0 / 30.0\n",
      "Exam 2 A star 32.0 / 43.0\n",
      "IndivHW6 26.0 / 30.0\n",
      "GroupHW6 25.0 / 30.0\n",
      "Interim Grade Report 5 Ungraded\n",
      "IndivHW7 30.0 / 30.0\n",
      "GroupHW7 29.0 / 30.0\n",
      "Interim Grade Report 6 Ungraded\n",
      "Final Grade Report Ungraded\n",
      "CSE103\n",
      "Thu-2A 99.16 / 140.0\n",
      "CSE21 Fall 2017\n",
      "HW0 - Individual 26.0 / 40.0\n",
      "HW1 - Individual 20.0 / 20.0\n",
      "HW1 - Group 36.0 / 36.0\n",
      "HW2 - Individual 16.0 / 20.0\n",
      "HW2 - Group 30.0 / 32.0\n",
      "HW3 - Individual 12.0 / 12.0\n",
      "Midterm 1 V1 38.0 / 40.0\n",
      "HW3 - Group 22.0 / 30.0\n",
      "HW4 - Individual 18.0 / 20.0\n",
      "HW4 - Group 30.0 / 30.0\n",
      "HW5 - Individual 10.0 / 10.0\n",
      "HW5 - Group 31.0 / 31.0\n",
      "Midterm 2 32.0 / 40.0\n",
      "HW6 - Individual 22.0 / 22.0\n",
      "HW6 - Group 40.0 / 40.0\n",
      "HW7 - Individual 16.0 / 16.0\n",
      "HW7 - Group 41.0 / 41.0\n",
      "Final v1 100.0 / 108.0\n"
     ]
    }
   ],
   "source": [
    "for i in listOfClasses[1].find_all('a'):\n",
    "    #print(i['href'])\n",
    "    print(i.find('h3').text)\n",
    "    firstCourse = session.get( 'https://gradescope.com' + i['href'])\n",
    "    secondBeauty = BeautifulSoup(firstCourse.content, 'html.parser')\n",
    "    listClass = secondBeauty.find_all('tr')\n",
    "    \n",
    "    for i in range(len(listClass)-1):\n",
    "        scores = listClass[i+1].find_all('td')[0].text\n",
    "        if listClass[i+1].find('th').find('a')!= None:\n",
    "            course = listClass[i+1].find('th').find('a').text\n",
    "            print(course, scores)"
   ]
  },
  {
   "cell_type": "code",
   "execution_count": 107,
   "metadata": {},
   "outputs": [
    {
     "name": "stdout",
     "output_type": "stream",
     "text": [
      "<a class=\"courseBox\" href=\"/courses/17372\"><h3 class=\"courseBox--shortname\">CSE21</h3><h4 class=\"courseBox--name\">Mathematics for Algorithms and Systems Analysis</h4><div class=\"courseBox--assignments\">13 assignments</div></a>\n",
      "<a class=\"courseBox\" href=\"/courses/16975\"><h3 class=\"courseBox--shortname\">CSE 101</h3><h4 class=\"courseBox--name\">Design and Analysis of Algorithms</h4><div class=\"courseBox--assignments\">5 assignments</div></a>\n",
      "<a class=\"courseBox\" href=\"/courses/17507\"><h3 class=\"courseBox--shortname\">CSE 140 - A00</h3><h4 class=\"courseBox--name\">Components and Design Techniques for Digital Systems</h4><div class=\"courseBox--assignments\">4 assignments</div></a>\n",
      "<a class=\"courseBox\" href=\"/courses/13331\"><h3 class=\"courseBox--shortname\">CSE 100</h3><h4 class=\"courseBox--name\">Advanced Data Structures</h4><div class=\"courseBox--assignments\">8 assignments</div></a>\n",
      "<a class=\"courseBox\" href=\"/courses/13804\"><h3 class=\"courseBox--shortname\">CSE 105 A/B</h3><h4 class=\"courseBox--name\">Intro to Theory of Computability</h4><div class=\"courseBox--assignments\">34 assignments</div></a>\n",
      "<a class=\"courseBox\" href=\"/courses/13335\"><h3 class=\"courseBox--shortname\">CSE103</h3><h4 class=\"courseBox--name\">Intro to probability and statistics</h4><div class=\"courseBox--assignments\">4 assignments</div></a>\n",
      "<a class=\"courseBox\" href=\"/courses/11478\"><h3 class=\"courseBox--shortname\">CSE21 Fall 2017</h3><h4 class=\"courseBox--name\">Mathematics for Algorithms and Systems</h4><div class=\"courseBox--assignments\">20 assignments</div></a>\n"
     ]
    }
   ],
   "source": [
    "firstCourse = session.get( 'https://gradescope.com' + links[2]['href'] )\n",
    "\n",
    "for i in links:\n",
    "    print(i)"
   ]
  },
  {
   "cell_type": "code",
   "execution_count": 85,
   "metadata": {},
   "outputs": [
    {
     "data": {
      "text/plain": [
       "<!DOCTYPE html>\n",
       "<html lang=\"en\"><head><title>Gradescope | CSE 140 - A00 Dashboard</title><meta content=\"width=device-width, initial-scale=1.0\" id=\"viewport\" name=\"viewport\"/><script data-apikey=\"77b51cafdf55184c5c33ee25bd688c71\" src=\"//d2wy8f7a9ursnm.cloudfront.net/bugsnag-3.min.js\"></script><link href=\"/assets/logo/logo_bars_48-7d44e5ee05bdb7275955018f74ef43014a0c879c3794297b66c9d9321ca2a964.png\" rel=\"shortcut icon\" type=\"image/x-icon\"/><link debug=\"false\" href=\"/assets/application2-e8fdcd3a0e02479d176726d1308c18d5d6b1a5330f8f460a2adcd55227802434.css\" media=\"all\" rel=\"stylesheet\"/><script debug=\"false\" src=\"/assets/application-9c1fe1e8a116ddaa2f98d400ea4280a240251fc3dcf975ca75488897c6d9d13d.js\"></script><script src=\"/packs/manifest-9ea09c2d25d5a9d36697.js\"></script><script src=\"/packs/vendor-03b9d4f57a7e2a9e492f.js\"></script><script src=\"/packs/global_components-b0d4f17aee504338e3dc.js\"></script><!-- Adroll Pixel Code -->\n",
       "<script type=\"text/javascript\">\n",
       "    adroll_adv_id = \"INQJL2UN75GEFORX6HE267\";\n",
       "    adroll_pix_id = \"5DIQ7DTLB5HKBDKGPVL3RS\";\n",
       "    /* OPTIONAL: provide email to improve user identification */\n",
       "    /* adroll_email = \"username@example.com\"; */\n",
       "    (function () {\n",
       "        var _onload = function(){\n",
       "            if (document.readyState && !/loaded|complete/.test(document.readyState)){setTimeout(_onload, 10);return}\n",
       "            if (!window.__adroll_loaded){__adroll_loaded=true;setTimeout(_onload, 50);return}\n",
       "            var scr = document.createElement(\"script\");\n",
       "            var host = ((\"https:\" == document.location.protocol) ? \"https://s.adroll.com\" : \"http://a.adroll.com\");\n",
       "            scr.setAttribute('async', 'true');\n",
       "            scr.type = \"text/javascript\";\n",
       "            scr.src = host + \"/j/roundtrip.js\";\n",
       "            ((document.getElementsByTagName('head') || [null])[0] ||\n",
       "                document.getElementsByTagName('script')[0].parentNode).appendChild(scr);\n",
       "        };\n",
       "        if (window.addEventListener) {window.addEventListener('load', _onload, false);}\n",
       "        else {window.attachEvent('onload', _onload)}\n",
       "    }());\n",
       "</script>\n",
       "<!-- End Adroll Pixel Code -->\n",
       "<meta content=\"authenticity_token\" name=\"csrf-param\"/>\n",
       "<meta content=\"5dM/Cn32cLQIrbG7R8Vz2K3tnNErVs97PEqs+IV7egfOgVmFDTnf2vEsFXikue9y0a+oTyIkF3G5D3AAATlyWg==\" name=\"csrf-token\"/><meta content=\"nopin\" name=\"pinterest\"/><!--[if lt IE 9]><script src=\"http://html5shim.googlecode.com/svn/trunk/html5.js\"></script><![endif]--></head><body data-action=\"show\" data-controller=\"courses\"><script type=\"text/javascript\">if (typeof Bugsnag !== 'undefined') {\n",
       "  Bugsnag.releaseStage = \"production\";\n",
       "  Bugsnag.notifyReleaseStages = [\"staging\", \"production\"]; Bugsnag.user = {name: \"Kevin Vu Nguyen\", email: \"kvn033@ucsd.edu\"};}</script><a class=\"sr-only sr-only-focusable btn modal--btnPrimary skipLink\" href=\"#main-content\">Skip to content</a><nav class=\"l-sidebar\"><div class=\"sidebar--content\"><div class=\"sidebar--logoHeader\"><div class=\"logo\"><a aria-label=\"back to home\" href=\"/\"><svg height=\"26\" viewbox=\"0 0 29 26\" width=\"29\" xmlns=\"http://www.w3.org/2000/svg\"><g fill-rule=\"evenodd\"><path d=\"M0 14.763h5.915V25.5H0zM15.057 0h5.915v25.5h-5.915zM7.528 8.589h5.915V25.5H7.528zM22.585 6.174H28.5V25.5h-5.915z\"></path></g></svg>\n",
       "<div aria-hidden=\"true\" class=\"logo--text\">gradescope</div></a></div><div aria-label=\"toggle sidebar\" class=\"collapseIcon js-toggleSidebar js-interactiveElement\"><i aria-hidden=\"true\" class=\"fa fa-chevron-left collapseIcon--leftArrow\"></i><i aria-hidden=\"true\" class=\"fa fa-bars collapseIcon--hamburger\"></i><i aria-hidden=\"true\" class=\"fa fa-chevron-right collapseIcon--rightArrow\"></i></div></div><div class=\"sidebar--collapsedHomeIcon\"><a aria-label=\"back to home\" href=\"/\"><svg height=\"26\" viewbox=\"0 0 29 26\" width=\"29\" xmlns=\"http://www.w3.org/2000/svg\"><g fill-rule=\"evenodd\"><path d=\"M0 14.763h5.915V25.5H0zM15.057 0h5.915v25.5h-5.915zM7.528 8.589h5.915V25.5H7.528zM22.585 6.174H28.5V25.5h-5.915z\"></path></g></svg>\n",
       "</a></div><h1 class=\"sidebar--title\"><a href=\"/courses/17507\">CSE 140 - A00</a></h1><div class=\"sidebar--subtitle\">Components and Design Techniques for Digital Systems</div><ul class=\"sidebar--menu sidebar--menu-aboveSubtitle\"><li class=\"sidebar--menuItem\"><a aria-label=\"Dashboard\" class=\"active\" href=\"/courses/17507\"><div class=\"sidebar--menuItemIcon\"><i class=\"fa fa-tasks\"></i></div><div class=\"sidebar--menuItemLabel\">Dashboard</div></a></li><li class=\"sidebar--menuItem\"><a aria-label=\"Regrade Requests\" href=\"/courses/17507/regrade_requests\"><div class=\"sidebar--menuItemIcon\"><i class=\"fa fa-repeat\"></i></div><div class=\"sidebar--menuItemLabel\">Regrade Requests</div></a></li></ul><h2 class=\"sidebar--menuHeader\">Instructor</h2><ul class=\"sidebar--menu sidebar--menu-hiddenWhenCollapsed js-sidebarRoster\"><li class=\"sidebar--menuItem\" id=\"sidebar-instructor-336234\"><div class=\"sidebar--menuItemIcon\"><div class=\"fa-stack-container\"><span class=\"fa-stack fa-lg\"><i class=\"fa fa-circle-thin fa-stack-2x\"></i><i class=\"fa fa-user fa-stack-1x sidebar-roster-img\"></i></span></div></div><div class=\"sidebar--menuItemLabel\">CK Cheng</div></li></ul><div class=\"sidebar--userProfileMenuMobile\"><h2 class=\"sidebar--menuHeader\">More</h2><a class=\"sidebar--userProfileMenuMobileLink js-openHelpCenter\" href=\"/help\"><i aria-hidden=\"true\" class=\"fa fa-question-circle\"></i> Help</a><a class=\"sidebar--userProfileMenuMobileLink\" href=\"/pricing\"><i aria-hidden=\"true\" class=\"fa fa-arrow-circle-up\"></i> Pricing</a><a class=\"sidebar--userProfileMenuMobileLink\" href=\"/about\"><i aria-hidden=\"true\" class=\"fa fa-info-circle\"></i> About Us</a><a class=\"sidebar--userProfileMenuMobileLink\" href=\"/account/edit\"><i aria-hidden=\"true\" class=\"fa fa-user\"></i> Edit Account</a><a class=\"sidebar--userProfileMenuMobileLink\" href=\"/logout\"><i aria-hidden=\"true\" class=\"fa fa-power-off\"></i> Log Out</a></div></div><div aria-label=\"toggle more options\" class=\"sidebar--userProfile\"><div aria-hidden=\"true\" class=\"sidebar--userProfileIcon\" role=\"presentation\"><div class=\"fa-stack-container\"><span class=\"fa-stack fa-lg\"><i aria-hidden=\"true\" class=\"fa fa-circle-thin fa-stack-2x\"></i><i aria-hidden=\"true\" class=\"fa fa-user fa-stack-1x\"></i></span></div></div><div class=\"sidebar--userProfileName\">Account</div><div class=\"sidebar--userProfileMenuToggle\"><i aria-label=\"toggle account menu\" class=\"fa fa-angle-up\"></i></div></div><div class=\"modal modal-helpCenter\"><div data-url=\"/help/contents\" id=\"help-center\"></div></div></nav><div class=\"sidebar--userProfileMenu\"><a class=\"popover--listItem popover--listItem-userProfileMenu js-openHelpCenter\" href=\"/help\"><i aria-hidden=\"true\" class=\"fa fa-question-circle\"></i> Help</a><a class=\"popover--listItem popover--listItem-userProfileMenu\" href=\"/pricing\"><i aria-hidden=\"true\" class=\"fa fa-arrow-circle-up\"></i> Pricing</a><a class=\"popover--listItem popover--listItem-userProfileMenu\" href=\"/about\"><i aria-hidden=\"true\" class=\"fa fa-info-circle\"></i> About Us</a><a class=\"popover--listItem popover--listItem-userProfileMenu\" href=\"/account/edit\"><i aria-hidden=\"true\" class=\"fa fa-user\"></i> Edit Account</a><a class=\"popover--listItem popover--listItem-userProfileMenu\" href=\"/logout\"><i aria-hidden=\"true\" class=\"fa fa-power-off\"></i> Log Out</a></div><nav class=\"l-mobileTopNav\"><div aria-expanded=\"false\" aria-label=\"expand sidebar\" class=\"collapseIcon js-toggleSidebarMobile collapseIcon-is-collapsed\"><i aria-hidden=\"true\" class=\"fa fa-chevron-left collapseIcon--leftArrow\"></i><i aria-hidden=\"true\" class=\"fa fa-bars collapseIcon--hamburger\"></i><i aria-hidden=\"true\" class=\"fa fa-chevron-right collapseIcon--rightArrow\"></i></div><div class=\"logo\"><a aria-label=\"back to home\" href=\"/\"><svg height=\"26\" viewbox=\"0 0 29 26\" width=\"29\" xmlns=\"http://www.w3.org/2000/svg\"><g fill-rule=\"evenodd\"><path d=\"M0 14.763h5.915V25.5H0zM15.057 0h5.915v25.5h-5.915zM7.528 8.589h5.915V25.5H7.528zM22.585 6.174H28.5V25.5h-5.915z\"></path></g></svg>\n",
       "<div class=\"logo--text\">gradescope</div></a></div></nav><div class=\"l-mainWrapper\"><div class=\"sidebar--mobileOverlay\"></div><main class=\"l-main\" id=\"main-content\" tabindex=\"-1\"><div class=\"l-header\"></div><div class=\"l-contentWrapper\"><div class=\"l-content\"><header class=\"courseHeader\"><h1 class=\"courseHeader--title\">CSE 140 - A00</h1><div class=\"courseHeader--term\">Spring 2018</div></header><section><table class=\"table\" id=\"assignments-student-table\"><caption class=\"sr-only\">Assignments List</caption><thead><tr role=\"row\"><th role=\"columnheader\" scope=\"col\">Name</th><th role=\"columnheader\" scope=\"col\">Status</th><th class=\"table--complexHeader sorting-right\" role=\"columnheader\" scope=\"col\"><div aria-label=\"Due Date\"><span aria-hidden=\"true\" class=\"table--cell-hiddenOnMobile\">Released</span><span>Due (<abbr title=\"Pacific Time (US &amp; Canada)\">PDT</abbr>)</span></div></th><th class=\"table--hiddenColumn\">Release Date</th><th class=\"table--hiddenColumn\">Due Date</th></tr></thead><tbody><tr role=\"row\"><th class=\"table--primaryLink\" role=\"rowheader\" scope=\"row\"><a aria-label=\"View HW1\" href=\"/courses/17507/assignments/70493/submissions/7308775\">HW1</a></th><td class=\"submissionStatus\"><div class=\"submissionStatus--score\">92.0 / 100.0</div></td><td><div class=\"submissionTimeChart submissionTimeChart-\"><div class=\"progressBar--caption\"><span aria-label=\"Released at  April 06\" class=\"submissionTimeChart--releaseDate\">Apr 06</span><span aria-label=\"Due at April 16 at 11:59PM\" class=\"submissionTimeChart--dueDate\">Apr 16 at 11:59PM</span><br/><span aria-label=\"Late Due Date at  April 18 at 11:59PM\" class=\"submissionTimeChart--dueDate\">Late Due Date: Apr 18 at 11:59PM</span></div></div></td><td class=\"hidden-column\">2018-04-06 13:00:00 -0700</td><td class=\"hidden-column\">2018-04-16 23:59:00 -0700</td></tr><tr role=\"row\"><th class=\"table--primaryLink\" role=\"rowheader\" scope=\"row\"><a aria-label=\"View HW2\" href=\"/courses/17507/assignments/73977/submissions/7593746\">HW2</a></th><td class=\"submissionStatus\"><div class=\"submissionStatus--score\">88.0 / 100.0</div></td><td><div class=\"submissionTimeChart submissionTimeChart-\"><div class=\"progressBar--caption\"><span aria-label=\"Released at  April 16\" class=\"submissionTimeChart--releaseDate\">Apr 16</span><span aria-label=\"Due at April 23 at 11:59PM\" class=\"submissionTimeChart--dueDate\">Apr 23 at 11:59PM</span><br/><span aria-label=\"Late Due Date at  April 25 at 11:59PM\" class=\"submissionTimeChart--dueDate\">Late Due Date: Apr 25 at 11:59PM</span></div></div></td><td class=\"hidden-column\">2018-04-16 13:00:00 -0700</td><td class=\"hidden-column\">2018-04-23 23:59:00 -0700</td></tr><tr role=\"row\"><th class=\"table--primaryLink\" role=\"rowheader\" scope=\"row\"><a aria-label=\"View Midterm1\" href=\"/courses/17507/assignments/74645/submissions/7624543\">Midterm1</a></th><td class=\"submissionStatus\"><div class=\"submissionStatus--score\">93.0 / 100.0</div></td><td></td><td class=\"hidden-column\"></td><td class=\"hidden-column\"></td></tr><tr role=\"row\"><th class=\"table--primaryLink\" role=\"rowheader\" scope=\"row\"><a aria-label=\"View HW3\" href=\"/courses/17507/assignments/76940/submissions/7916362\">HW3</a></th><td class=\"submissionStatus submissionStatus-complete\"><div aria-hidden=\"true\" class=\"submissionStatus--bullet\" role=\"presentation\"></div><div class=\"submissionStatus--text\">Submitted</div></td><td><div class=\"submissionTimeChart submissionTimeChart-\"><div class=\"progressBar--caption\"><span aria-label=\"Released at  May 05\" class=\"submissionTimeChart--releaseDate\">May 05</span><span aria-label=\"Due at May 07 at 11:59PM\" class=\"submissionTimeChart--dueDate\">May 07 at 11:59PM</span><br/><span aria-label=\"Late Due Date at  May 09 at  7:40PM\" class=\"submissionTimeChart--dueDate\">Late Due Date: May 09 at  7:40PM</span></div></div></td><td class=\"hidden-column\">2018-05-05 20:00:00 -0700</td><td class=\"hidden-column\">2018-05-07 23:59:00 -0700</td></tr></tbody></table></section><div class=\"modal\" id=\"submit-fixed-length-modal\"><div class=\"modal-header modal--heading\"><h1>Submit Assignment</h1></div><div class=\"modal-subtitle modal--subheading\"><span class=\"modal-subtitle-icon modal--subheadingIcon\"><i class=\"fa fa-info-circle\"></i></span><span class=\"modal-subtitle-text\">Upload a PDF containing your responses to the assignment.</span></div><div class=\"modal-body modal--body\"><div class=\"msg warning msg-warning late-submission-warning\">This submission will be marked late. Please refer to your course's policy for handling late\n",
       "work.</div><form accept-charset=\"UTF-8\" action=\"/courses/17507\" enctype=\"multipart/form-data\" id=\"submit-fixed-length-form\" method=\"post\"><input name=\"utf8\" type=\"hidden\" value=\"✓\"/><input name=\"authenticity_token\" type=\"hidden\" value=\"t3yZV+vDoGpv7NKDje0HPLwUgXWfuZ7xIb9K1VREXmOcLv/YmwwPBJZtdkBukZuWwFa165bLRvuk+pYt0AZWPg==\"/><div class=\"form-group form-file-upload fileUpload\"><label for=\"submission_pdf_attachment\"><label class=\"file-upload-label form-label form--label-header\"><span>File</span></label><input aria-hidden=\"true\" class=\"fileUpload--input \" id=\"submission_pdf_attachment\" name=\"pdf_attachment\" required=\"required\" tabindex=\"-1\" type=\"file\"/><i class=\"fa fa-file-text-o\"></i><span class=\"file-upload-prompt fileUpload--prompt\"></span><span class=\"btnContainer\"><span class=\"btn file-upload-btn btn-fileUpload js-interactiveElement\">Select PDF</span></span></label></div><div class=\"btnContainer\"><input class=\"btn btn-primary modal--btnPrimary\" id=\"submit\" name=\"commit\" type=\"submit\" value=\"Upload PDF\"/><button class=\"btn btn-cancel modal--btnCancel\" type=\"button\">Cancel</button></div></form></div></div><dialog aria-describedby=\"submit-variable-length-modal-subheading\" aria-labelledby=\"submit-variable-length-modal-heading\" aria-modal=\"true\" class=\"modal modal-withFooter\" id=\"submit-variable-length-modal\" open=\"true\" role=\"dialog\" tabindex=\"-1\"><div role=\"document\"><div class=\"modal-header modal--heading\" id=\"submit-variable-length-modal-heading\"><h1>Submit Assignment</h1></div><div class=\"modal-subtitle modal--subheading\"><span class=\"modal-subtitle-icon modal--subheadingIcon\"><i aria-hidden=\"true\" class=\"fa fa-info-circle\"></i></span><span class=\"modal-subtitle-text\" id=\"submit-variable-length-modal-subheading\">Submit images for each question, or a single PDF.</span></div><div class=\"modal-body modal--body\"><div class=\"msg error msg-error\">The outline for this assignment has not been set up yet. Notify your instructor to fix this problem.</div><div class=\"msg warning msg-warning late-submission-warning\">This submission will be marked late. Please refer to your course's policy for handling\n",
       "late work.</div><p class=\"u-instructionText\">Attach one or more image files for your answer to each question.\n",
       "You can also submit a single PDF, and then select the pages corresponding to each question\n",
       "in the next step.</p><div class=\"linkGallery\" id=\"submit-links-container\"><a class=\"submit-variable-length-choice linkGallery--link\" id=\"submit-variable-length-images\"><i aria-hidden=\"true\" class=\"fa fa-image\"></i><div class=\"submit-variable-length-text linkGallery--linkText\">Submit Images</div></a><button class=\"submit-variable-length-choice btn-link linkGallery--link\" id=\"submit-variable-length-pdf\"><i aria-hidden=\"true\" class=\"fa fa-file-pdf-o\"></i><div class=\"submit-variable-length-text linkGallery--linkText\">Submit PDF</div></button></div></div><div class=\"modal-close-footer modal--footer modal--footer-closeButton js-closeModal js-interactiveElement\"><span aria-hidden=\"true\" class=\"fa-stack modal--footerIcon\"><i class=\"fa fa-circle-thin fa-stack-2x\"></i><i class=\"fa fa-times fa-stack-1x\"></i></span><span class=\"text modal--footerText\">Close</span></div></div></dialog><dialog aria-describedby=\"submit-code-modal-subheading\" aria-labelledby=\"submit-code-modal-heading\" aria-modal=\"true\" class=\"modal\" id=\"submit-code-modal\" open=\"true\" role=\"dialog\" tabindex=\"-1\"><div role=\"document\"><div class=\"modal-header modal--heading\" id=\"submit-code-modal-heading\"><h1>Submit Programming Assignment</h1></div><div class=\"modal-subtitle modal--subheading\"><span class=\"modal-subtitle-icon modal--subheadingIcon\"><i aria-hidden=\"true\" class=\"fa fa-info-circle\"></i></span><span class=\"modal-subtitle-text\" id=\"submit-code-modal-subheading\">Upload all files for your submission</span></div><div class=\"modal-body modal--body\"><div class=\"msg warning msg-warning late-submission-warning\">This submission will be marked late. Please refer to your course's policy for handling late\n",
       "work.</div><form accept-charset=\"UTF-8\" action=\"/courses/17507\" autocomplete=\"off\" enctype=\"multipart/form-data\" id=\"submit-code-form\" method=\"post\"><input name=\"utf8\" type=\"hidden\" value=\"✓\"/><input name=\"authenticity_token\" type=\"hidden\" value=\"IKA25P2WPiWPI7huMkF1xcQUUHlY1rc6xHQRV0XTFHkL8lBrjVmRS3aiHK3RPelvuFZk51GkbzBBMc2vwZEcJA==\"/><div class=\"js-submissionMethodSwitcher\"></div><div class=\"fileUploadArea\"><div aria-label=\"Select to upload files\" class=\"form-file-drop-area js-interactiveElement\"><div class=\"form-file-drop-area-header\">Drag &amp; Drop</div><div class=\"form-file-drop-area-text\">Any file(s) including .zip. Click to browse.</div></div><div class=\"form-file-drop-message\">Add files via Drag &amp; Drop or <button class=\"btn btn-link btn-tealLink form-file-drop-browse\" type=\"button\">Browse Files.</button></div><div class=\"form-file-previews-container\"><div class=\"form-file-previews-header\"><div class=\"form-file-preview-filename\">Name</div><div class=\"form-file-preview-file-size\">Size</div><div class=\"form-file-preview-file-progress-container-header\">Progress</div><div class=\"form-file-preview-remove-button-header\"><i class=\"fa fa-times\"></i></div></div><div class=\"form-file-previews\"></div></div></div><div class=\"js-repositorySelector\" data-bitbucket-authentication-path=\"/bitbucket_authentication/new?assignment_id=nil\" data-bitbucket-is-authenticated=\"false\" data-bitbucket-repositories-url=\"https://gradescope.com/bitbucket_projects\" data-github-authentication-path=\"/github_authentication/new?assignment_id=nil\" data-github-is-authenticated=\"false\" data-github-repositories-url=\"https://gradescope.com/github_repositories\"></div><div class=\"form--group form-group js-leaderboardGroup is-hidden\"><label class=\" form-label form--label-header\" for=\"submission_leaderboard_name\">Leaderboard Name</label><input class=\" form--textInput\" id=\"submission_leaderboard_name\" name=\"submission[leaderboard_name]\" placeholder=\"Provide a name for the leaderboard\" required=\"required\" type=\"text\"/></div><div class=\"btnContainer\"><button class=\"btn btn-primary modal--btnPrimary\" id=\"upload-files\" type=\"submit\">Upload</button><button class=\"btn btn-cancel modal--btnCancel\" id=\"cancel\" type=\"button\">Cancel</button></div></form></div></div></dialog><div class=\"hidden\" id=\"dropzone-preview-template\"><div class=\"form-file-preview\"><div class=\"form-file-preview-filename\"><span data-dz-name=\"\"></span></div><div class=\"form-file-preview-file-size\"><span data-dz-size=\"\"></span></div><div class=\"form-file-preview-file-progress-container\"><div data-dz-uploadprogress=\"\"></div></div><div class=\"form-file-preview-remove-button\"><span data-dz-remove=\"\"><i class=\"fa fa-times\"></i></span></div><div class=\"form-file-preview-error-msg\"><div data-dz-errormessage=\"\"></div></div></div></div></div></div></main></div></body></html>"
      ]
     },
     "execution_count": 85,
     "metadata": {},
     "output_type": "execute_result"
    }
   ],
   "source": [
    "secondBeauty = BeautifulSoup(firstCourse.content, 'html.parser')\n",
    "secondBeauty"
   ]
  },
  {
   "cell_type": "code",
   "execution_count": 88,
   "metadata": {},
   "outputs": [
    {
     "name": "stdout",
     "output_type": "stream",
     "text": [
      "HW1 92.0 / 100.0\n",
      "HW2 88.0 / 100.0\n",
      "Midterm1 93.0 / 100.0\n",
      "HW3 Submitted\n"
     ]
    }
   ],
   "source": [
    "listClass = secondBeauty.find_all('tr')\n",
    "    \n",
    "for i in range(len(listClass)-1):\n",
    "    scores = listClass[i+1].find_all('td')[0].text\n",
    "    course = listClass[i+1].find('th').find('a').text\n",
    "    print(course, scores)\n"
   ]
  },
  {
   "cell_type": "code",
   "execution_count": 73,
   "metadata": {},
   "outputs": [
    {
     "name": "stdout",
     "output_type": "stream",
     "text": [
      "CSE21\n",
      "CSE 101\n",
      "CSE 140 - A00\n",
      "CSE 100\n",
      "CSE 105 A/B\n",
      "CSE103\n",
      "CSE21 Fall 2017\n"
     ]
    }
   ],
   "source": [
    "for i in links:\n",
    "    print(i.find('h3').text)"
   ]
  },
  {
   "cell_type": "code",
   "execution_count": 60,
   "metadata": {},
   "outputs": [
    {
     "name": "stdout",
     "output_type": "stream",
     "text": [
      "{\"notice\":\"You must be logged in to access this page.\"}\n"
     ]
    }
   ],
   "source": [
    "print(superSoup)"
   ]
  },
  {
   "cell_type": "code",
   "execution_count": null,
   "metadata": {},
   "outputs": [],
   "source": []
  }
 ],
 "metadata": {
  "kernelspec": {
   "display_name": "Python 3",
   "language": "python",
   "name": "python3"
  },
  "language_info": {
   "codemirror_mode": {
    "name": "ipython",
    "version": 3
   },
   "file_extension": ".py",
   "mimetype": "text/x-python",
   "name": "python",
   "nbconvert_exporter": "python",
   "pygments_lexer": "ipython3",
   "version": "3.6.0"
  }
 },
 "nbformat": 4,
 "nbformat_minor": 2
}
