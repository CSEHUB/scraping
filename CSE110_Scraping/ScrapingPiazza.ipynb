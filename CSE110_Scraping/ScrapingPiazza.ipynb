{
 "cells": [
  {
   "cell_type": "code",
   "execution_count": 22,
   "metadata": {},
   "outputs": [],
   "source": [
    "from piazza_api import Piazza\n",
    "from bs4 import BeautifulSoup\n",
    "import requests\n",
    "from lxml import html\n",
    "import lxml.html\n",
    "import pandas as pd\n",
    "import re\n",
    "p = Piazza()"
   ]
  },
  {
   "cell_type": "code",
   "execution_count": 23,
   "metadata": {},
   "outputs": [],
   "source": [
    "def cas_login(service, username, password):\n",
    "    # GET parameters - URL we'd like to log into.\n",
    "    params = {'service': service}\n",
    "    LOGIN_URL = service\n",
    "\n",
    "    # Start session and get login form.\n",
    "    session = requests.session()\n",
    "    login = session.get(LOGIN_URL)\n",
    "    #print(login.text)\n",
    "    # Get the hidden elements and put them in our form.\n",
    "    login_html = lxml.html.fromstring(login.text)\n",
    "    hidden_elements = login_html.xpath('//form//input[@type=\"hidden\"]')\n",
    "    form = {x.attrib['name']: x.attrib['value'] for x in hidden_elements}\n",
    "\n",
    "    # \"Fill out\" the form.\n",
    "    form['email'] = username\n",
    "    form['password'] = password\n",
    "\n",
    "    # Finally, login and return the session.\n",
    "    session.post(LOGIN_URL, data=form, params=params)\n",
    "    return session\n",
    "\n"
   ]
  },
  {
   "cell_type": "code",
   "execution_count": 24,
   "metadata": {},
   "outputs": [],
   "source": [
    "session = cas_login('https://piazza.com/account/login', 'USERNAME@ucsd.edu', 'PASSWORD')"
   ]
  },
  {
   "cell_type": "code",
   "execution_count": 25,
   "metadata": {},
   "outputs": [],
   "source": [
    "temp = session.get('https://piazza.com/class/')"
   ]
  },
  {
   "cell_type": "code",
   "execution_count": 26,
   "metadata": {},
   "outputs": [],
   "source": [
    "soup = BeautifulSoup(temp.content, 'html.parser')"
   ]
  },
  {
   "cell_type": "code",
   "execution_count": 30,
   "metadata": {},
   "outputs": [],
   "source": [
    "soup.prettify()\n",
    "\n",
    "temp = soup.find_all('div')\n",
    "#notificationNumber = soup.find('div', {'id': 'global_notifications_indicator'})"
   ]
  },
  {
   "cell_type": "code",
   "execution_count": 28,
   "metadata": {},
   "outputs": [
    {
     "name": "stdout",
     "output_type": "stream",
     "text": [
      "None\n"
     ]
    }
   ],
   "source": [
    "print(notificationNumber)"
   ]
  },
  {
   "cell_type": "code",
   "execution_count": 4,
   "metadata": {},
   "outputs": [
    {
     "name": "stdout",
     "output_type": "stream",
     "text": [
      "folders\n",
      "nr\n",
      "data\n",
      "created\n",
      "bucket_order\n",
      "no_answer_followup\n",
      "change_log\n",
      "bucket_name\n",
      "history\n",
      "type\n",
      "tags\n",
      "tag_good\n",
      "unique_views\n",
      "children\n",
      "tag_good_arr\n",
      "id\n",
      "config\n",
      "status\n",
      "upvote_ids\n",
      "request_instructor\n",
      "request_instructor_me\n",
      "bookmarked\n",
      "num_favorites\n",
      "my_favorite\n",
      "is_bookmarked\n",
      "is_tag_good\n",
      "q_edits\n",
      "i_edits\n",
      "s_edits\n",
      "t\n",
      "default_anonymity\n"
     ]
    }
   ],
   "source": [
    "p.user_login('kvn033@ucsd.edu', 'Angler139710')\n",
    "user_profile = p.get_user_profile()\n",
    "CSE110 = p.network(\"jebhpmejaa92vh\")\n",
    "\n",
    "CSE110.get_post(10)\n",
    "\n",
    "posts = CSE110.iter_all_posts(limit=1)\n",
    "for post in posts:\n",
    "    for i in post:\n",
    "        print(i)"
   ]
  },
  {
   "cell_type": "code",
   "execution_count": 3,
   "metadata": {},
   "outputs": [
    {
     "name": "stdout",
     "output_type": "stream",
     "text": [
      "folders\n",
      "nr\n",
      "data\n",
      "created\n",
      "bucket_order\n",
      "no_answer_followup\n",
      "change_log\n",
      "bucket_name\n",
      "history\n",
      "type\n",
      "tags\n",
      "tag_good\n",
      "unique_views\n",
      "children\n",
      "tag_good_arr\n",
      "id\n",
      "config\n",
      "status\n",
      "upvote_ids\n",
      "request_instructor\n",
      "request_instructor_me\n",
      "bookmarked\n",
      "num_favorites\n",
      "my_favorite\n",
      "is_bookmarked\n",
      "is_tag_good\n",
      "q_edits\n",
      "i_edits\n",
      "s_edits\n",
      "t\n",
      "default_anonymity\n"
     ]
    }
   ],
   "source": [
    "for i in post:\n",
    "    print(i)"
   ]
  },
  {
   "cell_type": "code",
   "execution_count": 16,
   "metadata": {},
   "outputs": [
    {
     "name": "stdout",
     "output_type": "stream",
     "text": [
      "<class 'dict'>\n",
      "{'anon': 'no', 'uid': 'glrksvyfHlA', 'subject': 'Peer Review Grading Criteria', 'created': '2018-05-03T01:39:04Z', 'content': '<p></p><h1></h1>\\n<div>\\n<p><strong>Total: 10 points</strong></p>\\n<p></p>\\n<p dir=\"ltr\">Rating all team members with 10 points (0 points awarded)</p>\\n<p dir=\"ltr\">otherwise:</p>\\n<p dir=\"ltr\"></p>\\n<p dir=\"ltr\">Split among\\xa0ratings (3pts) and comments (7pts)</p>\\n<br />\\n<p>\\xa0</p>\\n<br />\\n<p dir=\"ltr\"><strong>Insufficient comments criteria:</strong></p>\\n<br />\\n<p dir=\"ltr\">-duplicate comments for multiple people</p>\\n<br />\\n<table border=\"1\" cellspacing=\"0\" cellpadding=\"6px\" width=\"614\" height=\"201\"><tbody><tr><td><br />\\n<p><strong>Ratings</strong>\\xa0(based on average rating\\xa0awarded to peers)</p>\\n</td><td><strong>Comments</strong></td><td><strong>Missing reviews</strong></td></tr><tr><td>3 pts: avg &lt; 8.3</td><td>7 pts : 0 insufficient</td><td><br />\\n<p>-1 pt per team member</p>\\n<br />\\n<p>not reviewed</p>\\n</td></tr><tr><td>2 pts: avg &gt;= 8.3\\xa0</td><td>6 pts : 1 insufficient</td><td></td></tr><tr><td>1 pt: avg &gt;= 9</td><td>5 pts : 2 insufficient</td><td></td></tr><tr><td>0 pts: avg &gt;= 9.5</td><td>4 pts : 3 insufficient</td><td></td></tr><tr><td></td><td>3 pts : 4/5 insufficient</td><td></td></tr><tr><td></td><td>2 pts : 6/7 insufficient</td><td></td></tr><tr><td></td><td>0 pts : &gt;= 8 insufficient</td><td></td></tr></tbody></table>\\n<br />\\n<p>\\xa0</p>\\n<br />\\n<p>\\xa0</p>\\n<br />\\n<p><strong>TEAM-WISE DEDUCTION (every member in the team received):</strong></p>\\n<br />\\n<p>-1 pt\\xa0per\\xa0team member that did not review any other team members</p>\\n</div>\\n#pin'}\n",
      "anon\n",
      "uid\n",
      "subject\n",
      "created\n",
      "content\n",
      "Peer Review Grading Criteria\n",
      "<p></p><h1></h1>\n",
      "<div>\n",
      "<p><strong>Total: 10 points</strong></p>\n",
      "<p></p>\n",
      "<p dir=\"ltr\">Rating all team members with 10 points (0 points awarded)</p>\n",
      "<p dir=\"ltr\">otherwise:</p>\n",
      "<p dir=\"ltr\"></p>\n",
      "<p dir=\"ltr\">Split among ratings (3pts) and comments (7pts)</p>\n",
      "<br />\n",
      "<p> </p>\n",
      "<br />\n",
      "<p dir=\"ltr\"><strong>Insufficient comments criteria:</strong></p>\n",
      "<br />\n",
      "<p dir=\"ltr\">-duplicate comments for multiple people</p>\n",
      "<br />\n",
      "<table border=\"1\" cellspacing=\"0\" cellpadding=\"6px\" width=\"614\" height=\"201\"><tbody><tr><td><br />\n",
      "<p><strong>Ratings</strong> (based on average rating awarded to peers)</p>\n",
      "</td><td><strong>Comments</strong></td><td><strong>Missing reviews</strong></td></tr><tr><td>3 pts: avg &lt; 8.3</td><td>7 pts : 0 insufficient</td><td><br />\n",
      "<p>-1 pt per team member</p>\n",
      "<br />\n",
      "<p>not reviewed</p>\n",
      "</td></tr><tr><td>2 pts: avg &gt;= 8.3 </td><td>6 pts : 1 insufficient</td><td></td></tr><tr><td>1 pt: avg &gt;= 9</td><td>5 pts : 2 insufficient</td><td></td></tr><tr><td>0 pts: avg &gt;= 9.5</td><td>4 pts : 3 insufficient</td><td></td></tr><tr><td></td><td>3 pts : 4/5 insufficient</td><td></td></tr><tr><td></td><td>2 pts : 6/7 insufficient</td><td></td></tr><tr><td></td><td>0 pts : &gt;= 8 insufficient</td><td></td></tr></tbody></table>\n",
      "<br />\n",
      "<p> </p>\n",
      "<br />\n",
      "<p> </p>\n",
      "<br />\n",
      "<p><strong>TEAM-WISE DEDUCTION (every member in the team received):</strong></p>\n",
      "<br />\n",
      "<p>-1 pt per team member that did not review any other team members</p>\n",
      "</div>\n",
      "#pin\n"
     ]
    }
   ],
   "source": [
    "print(type(post['history'][1]))\n",
    "\n",
    "print(post['history'][1])\n",
    "\n",
    "for i in post['history'][1]:\n",
    "    print(i)\n",
    "print(post['history'][1]['subject'])\n",
    "print(post['history'][1]['content'])"
   ]
  },
  {
   "cell_type": "code",
   "execution_count": null,
   "metadata": {},
   "outputs": [],
   "source": []
  }
 ],
 "metadata": {
  "kernelspec": {
   "display_name": "Python 3",
   "language": "python",
   "name": "python3"
  },
  "language_info": {
   "codemirror_mode": {
    "name": "ipython",
    "version": 3
   },
   "file_extension": ".py",
   "mimetype": "text/x-python",
   "name": "python",
   "nbconvert_exporter": "python",
   "pygments_lexer": "ipython3",
   "version": "3.6.0"
  }
 },
 "nbformat": 4,
 "nbformat_minor": 2
}
