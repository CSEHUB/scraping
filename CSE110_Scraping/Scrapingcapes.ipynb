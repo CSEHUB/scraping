{
 "cells": [
  {
   "cell_type": "code",
   "execution_count": 1,
   "metadata": {},
   "outputs": [],
   "source": [
    "from bs4 import BeautifulSoup\n",
    "from firebase import firebase\n",
    "from apscheduler.schedulers.background import BackgroundScheduler\n",
    "from datetime import datetime\n",
    "# from apscheduler.schedulers.blocking import BlockingScheduler\n",
    "# from tabulate import tabulate\n",
    "import requests\n",
    "import pandas as pd\n",
    "import json"
   ]
  },
  {
   "cell_type": "code",
   "execution_count": 2,
   "metadata": {},
   "outputs": [],
   "source": [
    "#course deleted\n",
    "#HIST\n",
    "#LIT\n",
    "\n",
    "nameOfClass = ['ANTH', 'BENG', 'BIBC', 'CAT', 'CENG', 'CGS', 'CHEM', 'CHIN', 'COGS', 'COMM', 'CONT' , 'CSE' ,'DOC', 'ECE', 'ECON', 'EDS', 'ENVR', 'ERC', 'ESYS', 'ETHN', 'FILM', 'FPMU', 'HDP', 'HMNR', 'HUM', 'ICAM', 'INTL', 'JAPN', 'JUDA', 'LATI', 'LAWS', 'LIGN', 'MAE', 'MATH', 'MMW', 'MUIR', 'MUS', 'NANO', 'PHIL', 'PHYS', 'POLI', 'PSYC', 'RELI', 'REV','MGT', 'SDCC', 'SE','SIO', 'SOC', 'ENG', 'SXTH', 'TDAC', 'TDDM', 'TDGE', 'TMC', 'TWS', 'USP', 'VIS', 'WARR', 'WCWP']\n",
    "yearString = \"17\"\n",
    "year = int(yearString)"
   ]
  },
  {
   "cell_type": "code",
   "execution_count": 3,
   "metadata": {},
   "outputs": [],
   "source": [
    "def jsonDict(className):\n",
    "    print(className)\n",
    "    # Set website and user-agent or page will obfuscate datea\n",
    "    cape_website = \"http://www.cape.ucsd.edu/responses/Results.aspx?Name=&CourseNumber=\" + className\n",
    "    headers = {'User-Agent': 'Mozilla/5.0 (Macintosh; Intel Mac OS X 10_10_1) AppleWebKit/537.36 (KHTML, like Gecko) Chrome/39.0.2171.95 Safari/537.36'}\n",
    "    # Set up requests BeautifulSoup scraper\n",
    "    request = requests.get(cape_website, headers=headers)\n",
    "    soup = BeautifulSoup(request.content, 'html.parser')\n",
    "    table = soup.find_all('table')[0]\n",
    "    listOfValue = {}\n",
    "    counter = 0\n",
    "    tableList =  table.find_all('tbody')[0]\n",
    "    ClassList = tableList.find_all('tr')\n",
    "    \n",
    "    for i in ClassList:\n",
    "        if(i.find_all('td')[2].text[-2:] == yearString and \"(A)\" in i.find_all('td')[1].text):\n",
    "            listOfValue[i.find('a').text] = {}\n",
    "    for i in ClassList:\n",
    "        if(i.find_all('td')[2].text[-2:] == yearString and \"(A)\" in i.find_all('td')[1].text):\n",
    "            listOfValue[i.find('a').text][i.find_all('td')[2].text] = i.find_all('td')[7].text.replace(\"\\n\", \"\")\n",
    "    return listOfValue"
   ]
  },
  {
   "cell_type": "code",
   "execution_count": 4,
   "metadata": {},
   "outputs": [],
   "source": [
    "def scrapeCapes():\n",
    "    global yearString\n",
    "    global year\n",
    "    # block 1\n",
    "    allJSON = {}\n",
    "    allJSON[\"Courses\"] = {}\n",
    "    for i in nameOfClass:\n",
    "        schedule = jsonDict(i)\n",
    "        allJSON[\"Courses\"].update(schedule)\n",
    "\n",
    "    # block 2\n",
    "    courseList = json.dumps(allJSON, indent=4)\n",
    "    courseList = courseList.replace(\"/\", \"／\")\n",
    "    courseList = courseList.replace(\".\", \"．\")\n",
    "\n",
    "    jsonDictionary = json.loads(courseList)\n",
    "\n",
    "    print(courseList)\n",
    "\n",
    "    jsonDictionary = json.loads(courseList)\n",
    "    \n",
    "    firebase = firebase.FirebaseApplication('https://csehub-c4399.firebaseio.com/')\n",
    "    \n",
    "    result = firebase.patch('/Cape_Courses', { \"Course_\"+str(year): jsonDictionary})\n",
    "\n",
    "\n",
    "    \n",
    "    year = year + 1\n",
    "    yearString = str(year)"
   ]
  },
  {
   "cell_type": "code",
   "execution_count": null,
   "metadata": {},
   "outputs": [],
   "source": [
    "scheduler = BackgroundScheduler()\n",
    "scheduler.add_job(scrapeCapes, 'interval', minutes=3, next_run_time=datetime.now())\n",
    "# for yearly scraping\n",
    "# scheduler.add_job(scrapeCapes, 'interval', years=1, next_run_time=datetime.now())\n",
    "scheduler.start()\n",
    "\n"
   ]
  }
 ],
 "metadata": {
  "kernelspec": {
   "display_name": "Python 3",
   "language": "python",
   "name": "python3"
  },
  "language_info": {
   "codemirror_mode": {
    "name": "ipython",
    "version": 3
   },
   "file_extension": ".py",
   "mimetype": "text/x-python",
   "name": "python",
   "nbconvert_exporter": "python",
   "pygments_lexer": "ipython3",
   "version": "3.6.0"
  }
 },
 "nbformat": 4,
 "nbformat_minor": 2
}
