{
 "cells": [
  {
   "cell_type": "code",
   "execution_count": 16,
   "metadata": {},
   "outputs": [],
   "source": [
    "from bs4 import BeautifulSoup\n",
    "import requests\n",
    "import pandas as pd\n",
    "import json\n",
    "\n",
    "#from lxml import html"
   ]
  },
  {
   "cell_type": "code",
   "execution_count": 17,
   "metadata": {},
   "outputs": [],
   "source": [
    "#Here is a list of URLS, please update with current\n",
    "ListOfURL = ['http://www.gradesource.com/reports/288/29963/coursestand.html', 'http://www.gradesource.com/reports/7/29889/cs126276.html', 'http://www.gradesource.com/reports/7/29887/coursestand.html', 'http://www.gradesource.com/reports/430/29962/coursestand.html']\n",
    "ListOfCourse = ['CSE30_Sp18', 'CSE110_Sp18', 'CSE12_Sp18', 'CSE7_Sp18']"
   ]
  },
  {
   "cell_type": "code",
   "execution_count": 18,
   "metadata": {},
   "outputs": [],
   "source": [
    "def getGradeSourceGrades(URL):\n",
    "    arrTotal = []\n",
    "\n",
    "    quote_page = URL\n",
    "    #URL of gradesource website that needs to be scraped\n",
    "    page = requests.get(quote_page)\n",
    "    #making a request\n",
    "    soup = BeautifulSoup(page.content, 'html.parser')\n",
    "    #cleaning the html\n",
    "    \n",
    "    table = soup.find_all('tr')\n",
    "    #retrieving all the table\n",
    "    arr = []\n",
    "\n",
    "    for i in range(len(table)):\n",
    "        arr.append(table[i].find_all('td'))\n",
    "\n",
    "    arrHolder = {}\n",
    "    for i in range(len(arr)):\n",
    "        if i >= 8 and i < len(arr):     \n",
    "            if arr[i][0].find(\"b\") != None:\n",
    "\n",
    "                arrHolder[arr[i][0].find(\"b\").text] = {}\n",
    "                \n",
    "                if arr[i][len(arr[i])-1].find(\"b\") != None:\n",
    "               \n",
    "                    arrHolder[arr[i][0].find(\"b\").text][\"Grade\"] = arr[i][len(arr[i])-1].find(\"b\").text  # getting the course id\n",
    "              \n",
    "                elif arr[i][len(arr[i])-1].find(\"font\") != None:\n",
    "                \n",
    "                    arrHolder[arr[i][0].find(\"b\").text][\"Grade\"] = arr[i][len(arr[i])-1].find(\"font\").text # getting the rank\n",
    "           \n",
    "                arrHolder[arr[i][0].find(\"b\").text][\"Rank\"] = arr[i][len(arr[i])-2].find(\"font\").text + \"/\" + str(len(arr)-4)\n",
    "            elif arr[i][0].find(\"font\") != None:\n",
    "\n",
    "                arrHolder[arr[i][0].find(\"font\").text] = {}\n",
    "                \n",
    "                if arr[i][len(arr[i])-1].find(\"b\") != None:\n",
    "\n",
    "                    arrHolder[arr[i][0].find(\"font\").text][\"Grade\"] = arr[i][len(arr[i])-1].find(\"b\").text # getting the course id\n",
    "\n",
    "                elif arr[i][len(arr[i])-1].find(\"font\") != None:\n",
    "\n",
    "                    arrHolder[arr[i][0].find(\"font\").text][\"Grade\"] = arr[i][len(arr[i])-1].find(\"font\").text # getting the rank\n",
    "                \n",
    "                arrHolder[arr[i][0].find(\"font\")][\"Rank\"] = str(arr[i][len(arr[i])-2].find(\"font\").text) + \"/\" + str(len(arr)-4)\n",
    "    #arrTotal.append(arrHolder)\n",
    "    return arrHolder"
   ]
  },
  {
   "cell_type": "code",
   "execution_count": 19,
   "metadata": {},
   "outputs": [],
   "source": [
    "#this code is used for formatting into a json \n",
    "for i in range(len(ListOfURL)):\n",
    "    from firebase import firebase\n",
    "    CSECourses = getGradeSourceGrades(ListOfURL[i])\n",
    "\n",
    "\n",
    "    courseList = json.dumps(CSECourses, indent=4)\n",
    "    courseList = courseList.replace(\"/\", \"／\")\n",
    "    courseList = courseList.replace(\".\", \"．\")\n",
    "\n",
    "    jsonDict = json.loads(courseList)\n",
    "\n",
    "    #print(courseList)\n",
    "    jsonDict = json.loads(courseList)\n",
    "    firebase = firebase.FirebaseApplication('https://csehub-420.firebaseio.com/')\n",
    "\n",
    "    #This code is intended to send the dictionary to firebase\n",
    "    result = firebase.patch('/GradeSource', { ListOfCourse[i]: jsonDict})"
   ]
  },
  {
   "cell_type": "code",
   "execution_count": null,
   "metadata": {},
   "outputs": [],
   "source": []
  }
 ],
 "metadata": {
  "kernelspec": {
   "display_name": "Python 3",
   "language": "python",
   "name": "python3"
  },
  "language_info": {
   "codemirror_mode": {
    "name": "ipython",
    "version": 3
   },
   "file_extension": ".py",
   "mimetype": "text/x-python",
   "name": "python",
   "nbconvert_exporter": "python",
   "pygments_lexer": "ipython3",
   "version": "3.6.0"
  }
 },
 "nbformat": 4,
 "nbformat_minor": 2
}
