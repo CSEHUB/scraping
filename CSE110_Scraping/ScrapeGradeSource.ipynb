{
 "cells": [
  {
   "cell_type": "code",
   "execution_count": 60,
   "metadata": {},
   "outputs": [],
   "source": [
    "from bs4 import BeautifulSoup\n",
    "import requests\n",
    "import pandas as pd\n",
    "from apscheduler.schedulers.background import BackgroundScheduler\n",
    "from datetime import datetime\n",
    "import json\n",
    "\n",
    "#from lxml import html"
   ]
  },
  {
   "cell_type": "code",
   "execution_count": 89,
   "metadata": {},
   "outputs": [
    {
     "name": "stdout",
     "output_type": "stream",
     "text": [
      "Doesn't exist\n",
      "Doesn't exist\n",
      "Doesn't exist\n",
      "Doesn't exist\n",
      "Doesn't exist\n",
      "Doesn't exist\n",
      "Doesn't exist\n"
     ]
    }
   ],
   "source": [
    "listURL = []\n",
    "ListCourseName = []\n",
    "\n",
    "for i in range(3):\n",
    "    GradeSourceURL = 'http://www.gradesource.com/findcourse.asp?sb=C&name=cse&st=' + str(10 * i)\n",
    "    getGradeSource = requests.get(GradeSourceURL)\n",
    "    gradeSoup = BeautifulSoup(getGradeSource.content, 'html.parser')\n",
    "    \n",
    "    listLink = gradeSoup.find_all('tr', {'bgcolor': '#FFFFFF'})\n",
    "    listName = gradeSoup.find_all('font', {'size': '3'})\n",
    "    tempLinkList = gradeSoup.find_all('a')\n",
    "    counter = 0\n",
    "    \n",
    "    \n",
    "    for i in range(len(tempLinkList)):\n",
    "        if tempLinkList[i]['href'][:26] == 'http://www.gradesource.com':\n",
    "            searchURL = requests.get(tempLinkList[i]['href'])\n",
    "            findURLSoup = BeautifulSoup(searchURL.content, 'html.parser')\n",
    "            \n",
    "            if len(findURLSoup.find_all('a', {'href': 'coursestand.html'})) != 0:\n",
    "                listURL.append(tempLinkList[i]['href'][:-10] + findURLSoup.find_all('a', {'href': 'coursestand.html'})[0]['href'])\n",
    "                ListCourseName.append(listName[counter].find('b').text)\n",
    "            else:\n",
    "                print(\"Doesn't exist\")\n",
    "            counter += 1\n",
    "                     \n"
   ]
  },
  {
   "cell_type": "code",
   "execution_count": 90,
   "metadata": {},
   "outputs": [
    {
     "name": "stdout",
     "output_type": "stream",
     "text": [
      "CSE 100 - Advanced Data Structures http://www.gradesource.com/reports/5899/29957/coursestand.html\n",
      "CSE 11 - Introduction to Programming in Java http://www.gradesource.com/reports/5899/29958/coursestand.html\n",
      "CSE 110 - Software Engineering http://www.gradesource.com/reports/7/29889/coursestand.html\n",
      "CSE 12 - Basic Data Structures & Object-Oriented Design http://www.gradesource.com/reports/7/29887/coursestand.html\n",
      "CSE 120 - Principle of Computer Operating Systems http://www.gradesource.com/reports/1917/29997/coursestand.html\n",
      "CSE 127 (Gantman) - Introduction to Computer Security http://www.gradesource.com/reports/4955/30018/coursestand.html\n",
      "CSE 127 (Savage) - Introduction to Computer Security http://www.gradesource.com/reports/4955/30017/coursestand.html\n",
      "CSE 132B - Database System Applications http://www.gradesource.com/reports/1918/29968/coursestand.html\n",
      "CSE 150 - Introduction to AI: Probabilistic Reasoning and Decision Making http://www.gradesource.com/reports/2636/29970/coursestand.html\n",
      "CSE 151 - Introduction to Artificial Intelligence:  Statistics Approach http://www.gradesource.com/reports/4053/29971/coursestand.html\n",
      "CSE 15L - Software Tools & Techniques Lab http://www.gradesource.com/reports/7/29888/coursestand.html\n",
      "CSE 207 - Modern Cryptography http://www.gradesource.com/reports/871/29959/coursestand.html\n",
      "CSE 218 - Advanced Topics in Software Engineering http://www.gradesource.com/reports/509/29964/coursestand.html\n",
      "CSE 3 - Fluency in Information Technology http://www.gradesource.com/reports/430/29961/coursestand.html\n",
      "CSE 30 - Computer Organization & Systems Programming http://www.gradesource.com/reports/288/29963/coursestand.html\n",
      "CSE 7 - Introduction to Programming MATLAB http://www.gradesource.com/reports/430/29962/coursestand.html\n",
      "CSE 8A - Introduction to Computer Science:  Java I http://www.gradesource.com/reports/5889/29951/coursestand.html\n",
      "CSE 8B - Introduction to Computer Science:  Java II http://www.gradesource.com/reports/5889/29952/coursestand.html\n",
      "CSE185-SP18 - CSE 185 - Advanced Bioinformatics Laboratory http://www.gradesource.com/reports/6078/29950/coursestand.html\n",
      "CSE223B - Distributed Computing and Systems http://www.gradesource.com/reports/4367/30007/coursestand.html\n",
      "BENG181/CSE181/BIMM181 -  http://www.gradesource.com/reports/5993/29646/coursestand.html\n",
      "CSE 100 - Advanced Data Structures http://www.gradesource.com/reports/3586/29656/coursestand.html\n",
      "CSE 101 - Design & Analysis of Algorithms http://www.gradesource.com/reports/553/29655/coursestand.html\n"
     ]
    }
   ],
   "source": [
    "for  i in range(len(ListCourseName)):\n",
    "    print(ListCourseName[i], listURL[i])"
   ]
  },
  {
   "cell_type": "code",
   "execution_count": 2,
   "metadata": {},
   "outputs": [],
   "source": [
    "#Here is a list of URLS, please update with current\n",
    "ListOfURL = ['http://www.gradesource.com/reports/288/29963/coursestand.html', 'http://www.gradesource.com/reports/7/29889/cs126276.html', 'http://www.gradesource.com/reports/7/29887/coursestand.html', 'http://www.gradesource.com/reports/430/29962/coursestand.html']\n",
    "ListOfCourse = ['CSE30_Sp18', 'CSE110_Sp18', 'CSE12_Sp18', 'CSE7_Sp18']"
   ]
  },
  {
   "cell_type": "code",
   "execution_count": 91,
   "metadata": {},
   "outputs": [],
   "source": [
    "def getGradeSourceGrades(URL):\n",
    "    arrTotal = []\n",
    "\n",
    "    quote_page = URL\n",
    "    #URL of gradesource website that needs to be scraped\n",
    "    page = requests.get(quote_page)\n",
    "    #making a request\n",
    "    soup = BeautifulSoup(page.content, 'html.parser')\n",
    "    #cleaning the html\n",
    "    \n",
    "    table = soup.find_all('tr')\n",
    "    #retrieving all the table\n",
    "    arr = []\n",
    "\n",
    "    for i in range(len(table)):\n",
    "        arr.append(table[i].find_all('td'))\n",
    "\n",
    "    arrHolder = {}\n",
    "    for i in range(len(arr)):\n",
    "        if i >= 8 and i < len(arr):     \n",
    "            if arr[i][0].find(\"b\") != None:\n",
    "\n",
    "                arrHolder[arr[i][0].find(\"b\").text] = {}\n",
    "                \n",
    "                if arr[i][len(arr[i])-1].find(\"b\") != None:\n",
    "               \n",
    "                    arrHolder[arr[i][0].find(\"b\").text][\"Grade\"] = arr[i][len(arr[i])-1].find(\"b\").text  # getting the course id\n",
    "              \n",
    "                elif arr[i][len(arr[i])-1].find(\"font\") != None:\n",
    "                \n",
    "                    arrHolder[arr[i][0].find(\"b\").text][\"Grade\"] = arr[i][len(arr[i])-1].find(\"font\").text # getting the rank\n",
    "           \n",
    "                arrHolder[arr[i][0].find(\"b\").text][\"Rank\"] = arr[i][len(arr[i])-2].find(\"font\").text + \"/\" + str(len(arr)-4)\n",
    "            elif arr[i][0].find(\"font\") != None:\n",
    "\n",
    "                arrHolder[arr[i][0].find(\"font\").text] = {}\n",
    "                \n",
    "                if arr[i][len(arr[i])-1].find(\"b\") != None:\n",
    "\n",
    "                    arrHolder[arr[i][0].find(\"font\").text][\"Grade\"] = arr[i][len(arr[i])-1].find(\"b\").text # getting the course id\n",
    "\n",
    "                elif arr[i][len(arr[i])-1].find(\"font\") != None:\n",
    "\n",
    "                    arrHolder[arr[i][0].find(\"font\").text][\"Grade\"] = arr[i][len(arr[i])-1].find(\"font\").text # getting the rank\n",
    "                \n",
    "                arrHolder[arr[i][0].find(\"font\")][\"Rank\"] = str(arr[i][len(arr[i])-2].find(\"font\").text) + \"/\" + str(len(arr)-4)\n",
    "    #arrTotal.append(arrHolder)\n",
    "    return arrHolder"
   ]
  },
  {
   "cell_type": "code",
   "execution_count": 96,
   "metadata": {},
   "outputs": [],
   "source": [
    "#this code is used for formatting into a json \n",
    "def runGradeSource():\n",
    "    \n",
    "\n",
    "    listURL = []\n",
    "    ListCourseName = []\n",
    "\n",
    "    # This code gets the most recent gradesource\n",
    "    for i in range(3):\n",
    "        GradeSourceURL = 'http://www.gradesource.com/findcourse.asp?sb=C&name=cse&st=' + str(10 * i)\n",
    "        getGradeSource = requests.get(GradeSourceURL)\n",
    "        gradeSoup = BeautifulSoup(getGradeSource.content, 'html.parser')\n",
    "    \n",
    "        listLink = gradeSoup.find_all('tr', {'bgcolor': '#FFFFFF'})\n",
    "        listName = gradeSoup.find_all('font', {'size': '3'})\n",
    "        tempLinkList = gradeSoup.find_all('a')\n",
    "        counter = 0\n",
    "    \n",
    "    \n",
    "        for i in range(len(tempLinkList)):\n",
    "            if tempLinkList[i]['href'][:26] == 'http://www.gradesource.com':\n",
    "                searchURL = requests.get(tempLinkList[i]['href'])\n",
    "                findURLSoup = BeautifulSoup(searchURL.content, 'html.parser')\n",
    "                    \n",
    "                if len(findURLSoup.find_all('a', {'href': 'coursestand.html'})) != 0:\n",
    "                    listURL.append(tempLinkList[i]['href'][:-10] + findURLSoup.find_all('a', {'href': 'coursestand.html'})[0]['href'])\n",
    "                    ListCourseName.append(listName[counter].find('b').text)\n",
    "                else:\n",
    "                    print(\"Doesn't exist\")\n",
    "                counter += 1\n",
    "        \n",
    "       ##### \n",
    "    for i in range(len(listURL)):\n",
    "        from firebase import firebase\n",
    "        CSECourses = getGradeSourceGrades(listURL[i])\n",
    "\n",
    "        courseList = json.dumps(CSECourses, indent=4)\n",
    "        courseList = courseList.replace(\"/\", \"／\")\n",
    "        courseList = courseList.replace(\".\", \"．\")\n",
    "\n",
    "        jsonDict = json.loads(courseList)\n",
    "\n",
    "        #print(courseList)\n",
    "        jsonDict = json.loads(courseList)\n",
    "        firebase = firebase.FirebaseApplication('https://csehub-420.firebaseio.com/')\n",
    "\n",
    "        #This code is intended to send the dictionary to firebase\n",
    "        result = firebase.patch('/GradeSource', { ListCourseName[i]: jsonDict})"
   ]
  },
  {
   "cell_type": "code",
   "execution_count": 97,
   "metadata": {},
   "outputs": [
    {
     "name": "stdout",
     "output_type": "stream",
     "text": [
      "Doesn't exist\n",
      "Doesn't exist\n",
      "Doesn't exist\n",
      "Doesn't exist\n",
      "Doesn't exist\n",
      "Doesn't exist\n",
      "Doesn't exist\n"
     ]
    }
   ],
   "source": [
    "runGradeSource()"
   ]
  },
  {
   "cell_type": "code",
   "execution_count": 56,
   "metadata": {},
   "outputs": [
    {
     "name": "stderr",
     "output_type": "stream",
     "text": [
      "Job \"runGradeSource (trigger: interval[0:03:00], next run at: 2018-05-29 22:47:12 PDT)\" raised an exception\n",
      "Traceback (most recent call last):\n",
      "  File \"/Library/Frameworks/Python.framework/Versions/3.6/lib/python3.6/site-packages/apscheduler/executors/base.py\", line 125, in run_job\n",
      "    retval = job.func(*job.args, **job.kwargs)\n",
      "  File \"<ipython-input-55-93703a430752>\", line 3, in runGradeSource\n",
      "    for i in range(len(ListURL)):\n",
      "NameError: name 'ListURL' is not defined\n"
     ]
    }
   ],
   "source": [
    "scheduler = BackgroundScheduler()\n",
    "scheduler.add_job(runGradeSource, 'interval', minutes=3, next_run_time=datetime.now())\n",
    "# for yearly scraping\n",
    "# scheduler.add_job(scrapeCapes, 'interval', years=1, next_run_time=datetime.now())\n",
    "scheduler.start()"
   ]
  },
  {
   "cell_type": "code",
   "execution_count": null,
   "metadata": {},
   "outputs": [],
   "source": []
  }
 ],
 "metadata": {
  "kernelspec": {
   "display_name": "Python 3",
   "language": "python",
   "name": "python3"
  },
  "language_info": {
   "codemirror_mode": {
    "name": "ipython",
    "version": 3
   },
   "file_extension": ".py",
   "mimetype": "text/x-python",
   "name": "python",
   "nbconvert_exporter": "python",
   "pygments_lexer": "ipython3",
   "version": "3.6.0"
  }
 },
 "nbformat": 4,
 "nbformat_minor": 2
}
